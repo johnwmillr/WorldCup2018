{
 "cells": [
  {
   "cell_type": "code",
   "execution_count": 3,
   "metadata": {},
   "outputs": [],
   "source": [
    "import requests\n",
    "import json\n",
    "import time"
   ]
  },
  {
   "cell_type": "markdown",
   "metadata": {},
   "source": [
    "# SportsRadar"
   ]
  },
  {
   "cell_type": "code",
   "execution_count": 11,
   "metadata": {},
   "outputs": [],
   "source": [
    "# Load the API credentials\n",
    "with open(\"secrets_sportsradar.txt\",'r') as f:\n",
    "    soccer_api_key = f.readlines()[0].split(': ')[1].strip()"
   ]
  },
  {
   "cell_type": "code",
   "execution_count": null,
   "metadata": {},
   "outputs": [],
   "source": [
    "base_url = \"https://api.sportradar.us/soccer-t3/intl/en\"\n",
    "endpoint = \"/players\"\n",
    "player_id = \"/sr:player:149304\"\n",
    "form = \"/profile.json\"\n",
    "params = {'api_key': soccer_api_key}\n",
    "uri = base_url + endpoint + player_id + form\n",
    "response = requests.get(uri, params=params)\n",
    "assert response.status_code == 200, \"Error in API request.\"\n",
    "data = response.json()"
   ]
  },
  {
   "cell_type": "code",
   "execution_count": null,
   "metadata": {},
   "outputs": [],
   "source": [
    "class SportsRadarAPI(object):\n",
    "    \n",
    "    def __init__(self, api_key):\n",
    "        self.api_key = api_key\n",
    "        \n",
    "    def get_player_profile"
   ]
  },
  {
   "cell_type": "markdown",
   "metadata": {},
   "source": [
    "# Football-data.org\n",
    "I can use this API to get a list of all teams and players in the 2018 World Cup"
   ]
  },
  {
   "cell_type": "code",
   "execution_count": 52,
   "metadata": {},
   "outputs": [],
   "source": [
    "# Get a list of all teams in the 2018 World Cup\n",
    "uri = \"http://api.football-data.org/v1/competitions/467/teams\"\n",
    "response = requests.get(uri)\n",
    "assert response.status_code == 200, \"Error in API request.\"\n",
    "team_data = response.json()"
   ]
  },
  {
   "cell_type": "code",
   "execution_count": 55,
   "metadata": {},
   "outputs": [
    {
     "name": "stdout",
     "output_type": "stream",
     "text": [
      "(0/32) Russia\n",
      "(1/32) Saudi Arabia\n",
      "(2/32) Egypt\n",
      "(3/32) Uruguay\n",
      "(4/32) Morocco\n",
      "(5/32) Iran\n",
      "(6/32) Portugal\n",
      "(7/32) Spain\n",
      "(8/32) France\n",
      "Football-data Error: Error in API request (8).\n",
      "(9/32) Australia\n",
      "(10/32) Argentina\n",
      "(11/32) Iceland\n",
      "(12/32) Peru\n",
      "(13/32) Denmark\n",
      "(14/32) Croatia\n",
      "(15/32) Nigeria\n",
      "(16/32) Costa Rica\n",
      "(17/32) Serbia\n",
      "(18/32) Germany\n",
      "(19/32) Mexico\n",
      "(20/32) Brazil\n",
      "(21/32) Switzerland\n",
      "(22/32) Sweden\n",
      "(23/32) Korea Republic\n",
      "(24/32) Belgium\n",
      "(25/32) Panama\n",
      "(26/32) Tunisia\n",
      "(27/32) England\n",
      "(28/32) Colombia\n",
      "(29/32) Japan\n",
      "Football-data Error: Error in API request (29).\n",
      "(30/32) Poland\n",
      "(31/32) Senegal\n",
      "Saving the data... Done.\n"
     ]
    }
   ],
   "source": [
    "# Get player data for each team in the 2018 World Cup\n",
    "soccer_data = []\n",
    "num_teams = team_data['count']\n",
    "for n,team in enumerate(team_data['teams']):\n",
    "    print(\"({n}/{total}) {name}\".format(n=n+1, total=num_teams, name=team['name']))\n",
    "    try:\n",
    "        response = requests.get(team['_links']['players']['href'])\n",
    "        assert response.status_code == 200, \"Error in API request ({}).\".format(n)\n",
    "        team['players'] = response.json()\n",
    "        soccer_data.append(team)    \n",
    "    except Exception as e:\n",
    "        print(\"Football-data Error: {error}\".format(error=e))\n",
    "    time.sleep(5)\n",
    "    \n",
    "# Save the data\n",
    "print(\"Saving the data...\", end=\"\", flush=True)\n",
    "with open('soccer_teams.json', 'w') as outfile:\n",
    "    json.dump(soccer_data, outfile)\n",
    "print(\" Done.\")"
   ]
  },
  {
   "cell_type": "code",
   "execution_count": 56,
   "metadata": {},
   "outputs": [
    {
     "data": {
      "text/plain": [
       "30"
      ]
     },
     "execution_count": 56,
     "metadata": {},
     "output_type": "execute_result"
    }
   ],
   "source": [
    "len(soccer_data)"
   ]
  },
  {
   "cell_type": "code",
   "execution_count": 16,
   "metadata": {
    "scrolled": false
   },
   "outputs": [
    {
     "data": {
      "text/plain": [
       "dict_keys(['_links', 'count', 'teams'])"
      ]
     },
     "execution_count": 16,
     "metadata": {},
     "output_type": "execute_result"
    }
   ],
   "source": [
    "data.keys()"
   ]
  },
  {
   "cell_type": "code",
   "execution_count": 22,
   "metadata": {},
   "outputs": [
    {
     "data": {
      "text/plain": [
       "{'_links': {'self': {'href': 'http://api.football-data.org/v1/teams/808'},\n",
       "  'fixtures': {'href': 'http://api.football-data.org/v1/teams/808/fixtures'},\n",
       "  'players': {'href': 'http://api.football-data.org/v1/teams/808/players'}},\n",
       " 'name': 'Russia',\n",
       " 'code': 'RUS',\n",
       " 'shortName': None,\n",
       " 'squadMarketValue': None,\n",
       " 'crestUrl': 'https://upload.wikimedia.org/wikipedia/commons/f/f3/Flag_of_Russia.svg'}"
      ]
     },
     "execution_count": 22,
     "metadata": {},
     "output_type": "execute_result"
    }
   ],
   "source": [
    "data['teams'][0]"
   ]
  },
  {
   "cell_type": "code",
   "execution_count": 30,
   "metadata": {},
   "outputs": [],
   "source": [
    "response = requests.get(data['teams'][0]['_links']['players']['href'])"
   ]
  },
  {
   "cell_type": "code",
   "execution_count": 33,
   "metadata": {
    "scrolled": false
   },
   "outputs": [],
   "source": [
    "team_data = response.json()"
   ]
  },
  {
   "cell_type": "code",
   "execution_count": 35,
   "metadata": {},
   "outputs": [
    {
     "data": {
      "text/plain": [
       "dict_keys(['_links', 'count', 'players'])"
      ]
     },
     "execution_count": 35,
     "metadata": {},
     "output_type": "execute_result"
    }
   ],
   "source": [
    "team_data.keys()"
   ]
  },
  {
   "cell_type": "code",
   "execution_count": 37,
   "metadata": {},
   "outputs": [
    {
     "data": {
      "text/plain": [
       "{'name': 'Denis Cheryshev',\n",
       " 'position': 'Left Wing',\n",
       " 'jerseyNumber': 27,\n",
       " 'dateOfBirth': '1990-12-26',\n",
       " 'nationality': 'Russia',\n",
       " 'contractUntil': '2021-06-30',\n",
       " 'marketValue': None}"
      ]
     },
     "execution_count": 37,
     "metadata": {},
     "output_type": "execute_result"
    }
   ],
   "source": [
    "team_data['players'][0]"
   ]
  },
  {
   "cell_type": "code",
   "execution_count": null,
   "metadata": {},
   "outputs": [],
   "source": [
    "\n",
    "\n",
    "\n",
    "\n",
    "\n",
    "\n",
    "\n",
    "\n",
    "\n",
    "\n",
    "\n",
    "\n",
    "\n",
    "\n",
    "\n"
   ]
  }
 ],
 "metadata": {
  "kernelspec": {
   "display_name": "Python 3",
   "language": "python",
   "name": "python3"
  },
  "language_info": {
   "codemirror_mode": {
    "name": "ipython",
    "version": 3
   },
   "file_extension": ".py",
   "mimetype": "text/x-python",
   "name": "python",
   "nbconvert_exporter": "python",
   "pygments_lexer": "ipython3",
   "version": "3.6.5"
  }
 },
 "nbformat": 4,
 "nbformat_minor": 2
}
